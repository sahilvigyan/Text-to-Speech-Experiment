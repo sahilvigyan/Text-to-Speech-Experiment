{
 "cells": [
  {
   "cell_type": "code",
   "execution_count": 2,
   "id": "20bda4a6-3006-426b-96b5-e396bfe4b22f",
   "metadata": {
    "scrolled": true
   },
   "outputs": [
    {
     "name": "stdout",
     "output_type": "stream",
     "text": [
      "Requirement already satisfied: librosa in /home/sahil-vigyan/personal/projects/ds/lib/python3.12/site-packages (0.10.2.post1)\n",
      "Requirement already satisfied: audioread>=2.1.9 in /home/sahil-vigyan/personal/projects/ds/lib/python3.12/site-packages (from librosa) (3.0.1)\n",
      "Requirement already satisfied: numpy!=1.22.0,!=1.22.1,!=1.22.2,>=1.20.3 in /home/sahil-vigyan/personal/projects/ds/lib/python3.12/site-packages (from librosa) (2.0.2)\n",
      "Requirement already satisfied: scipy>=1.2.0 in /home/sahil-vigyan/personal/projects/ds/lib/python3.12/site-packages (from librosa) (1.14.1)\n",
      "Requirement already satisfied: scikit-learn>=0.20.0 in /home/sahil-vigyan/personal/projects/ds/lib/python3.12/site-packages (from librosa) (1.5.2)\n",
      "Requirement already satisfied: joblib>=0.14 in /home/sahil-vigyan/personal/projects/ds/lib/python3.12/site-packages (from librosa) (1.4.2)\n",
      "Requirement already satisfied: decorator>=4.3.0 in /home/sahil-vigyan/personal/projects/ds/lib/python3.12/site-packages (from librosa) (5.1.1)\n",
      "Requirement already satisfied: numba>=0.51.0 in /home/sahil-vigyan/personal/projects/ds/lib/python3.12/site-packages (from librosa) (0.60.0)\n",
      "Requirement already satisfied: soundfile>=0.12.1 in /home/sahil-vigyan/personal/projects/ds/lib/python3.12/site-packages (from librosa) (0.12.1)\n",
      "Requirement already satisfied: pooch>=1.1 in /home/sahil-vigyan/personal/projects/ds/lib/python3.12/site-packages (from librosa) (1.8.2)\n",
      "Requirement already satisfied: soxr>=0.3.2 in /home/sahil-vigyan/personal/projects/ds/lib/python3.12/site-packages (from librosa) (0.5.0.post1)\n",
      "Requirement already satisfied: typing-extensions>=4.1.1 in /home/sahil-vigyan/personal/projects/ds/lib/python3.12/site-packages (from librosa) (4.12.2)\n",
      "Requirement already satisfied: lazy-loader>=0.1 in /home/sahil-vigyan/personal/projects/ds/lib/python3.12/site-packages (from librosa) (0.4)\n",
      "Requirement already satisfied: msgpack>=1.0 in /home/sahil-vigyan/personal/projects/ds/lib/python3.12/site-packages (from librosa) (1.1.0)\n",
      "Requirement already satisfied: packaging in /home/sahil-vigyan/personal/projects/ds/lib/python3.12/site-packages (from lazy-loader>=0.1->librosa) (24.2)\n",
      "Requirement already satisfied: llvmlite<0.44,>=0.43.0dev0 in /home/sahil-vigyan/personal/projects/ds/lib/python3.12/site-packages (from numba>=0.51.0->librosa) (0.43.0)\n",
      "Requirement already satisfied: platformdirs>=2.5.0 in /home/sahil-vigyan/personal/projects/ds/lib/python3.12/site-packages (from pooch>=1.1->librosa) (4.3.6)\n",
      "Requirement already satisfied: requests>=2.19.0 in /home/sahil-vigyan/personal/projects/ds/lib/python3.12/site-packages (from pooch>=1.1->librosa) (2.32.3)\n",
      "Requirement already satisfied: threadpoolctl>=3.1.0 in /home/sahil-vigyan/personal/projects/ds/lib/python3.12/site-packages (from scikit-learn>=0.20.0->librosa) (3.5.0)\n",
      "Requirement already satisfied: cffi>=1.0 in /home/sahil-vigyan/personal/projects/ds/lib/python3.12/site-packages (from soundfile>=0.12.1->librosa) (1.17.1)\n",
      "Requirement already satisfied: pycparser in /home/sahil-vigyan/personal/projects/ds/lib/python3.12/site-packages (from cffi>=1.0->soundfile>=0.12.1->librosa) (2.22)\n",
      "Requirement already satisfied: charset-normalizer<4,>=2 in /home/sahil-vigyan/personal/projects/ds/lib/python3.12/site-packages (from requests>=2.19.0->pooch>=1.1->librosa) (3.4.0)\n",
      "Requirement already satisfied: idna<4,>=2.5 in /home/sahil-vigyan/personal/projects/ds/lib/python3.12/site-packages (from requests>=2.19.0->pooch>=1.1->librosa) (3.10)\n",
      "Requirement already satisfied: urllib3<3,>=1.21.1 in /home/sahil-vigyan/personal/projects/ds/lib/python3.12/site-packages (from requests>=2.19.0->pooch>=1.1->librosa) (2.2.3)\n",
      "Requirement already satisfied: certifi>=2017.4.17 in /home/sahil-vigyan/personal/projects/ds/lib/python3.12/site-packages (from requests>=2.19.0->pooch>=1.1->librosa) (2024.8.30)\n",
      "Requirement already satisfied: sounddevice in /home/sahil-vigyan/personal/projects/ds/lib/python3.12/site-packages (0.5.1)\n",
      "Requirement already satisfied: CFFI>=1.0 in /home/sahil-vigyan/personal/projects/ds/lib/python3.12/site-packages (from sounddevice) (1.17.1)\n",
      "Requirement already satisfied: pycparser in /home/sahil-vigyan/personal/projects/ds/lib/python3.12/site-packages (from CFFI>=1.0->sounddevice) (2.22)\n"
     ]
    }
   ],
   "source": [
    "! pip install librosa\n",
    "! pip install sounddevice"
   ]
  },
  {
   "cell_type": "code",
   "execution_count": 3,
   "id": "944c5c61-8c5e-4629-a61f-e44d97647ad4",
   "metadata": {},
   "outputs": [],
   "source": [
    "import librosa\n",
    "import numpy as np\n",
    "import sounddevice as sd"
   ]
  },
  {
   "cell_type": "code",
   "execution_count": 4,
   "id": "8e9040a0-3d26-4ec5-b314-a6466c5b550e",
   "metadata": {},
   "outputs": [],
   "source": [
    "def speak_text(text, voice_profile):\n",
    "    text_splits = text.split(\" \")\n",
    "    print(text_splits)\n",
    "    \n",
    "    concatenated_audio = np.array([])\n",
    "    for i in range(len(text_splits)):\n",
    "        clip_path = \"clips/\" + voice_profile + \"/\" + text_splits[i] + \".wav\"\n",
    "        audio, sr = librosa.load(clip_path, sr=8000)\n",
    "        concatenated_audio = np.concatenate([concatenated_audio, audio])\n",
    "    \n",
    "    sd.play(concatenated_audio, 8000)\n",
    "    sd.wait()\n",
    "\n",
    "\n",
    "def speak_text_multiple(text_array, voice_profile):\n",
    "    grand_concatenated_audio = np.array([])\n",
    "    for i in range(len(text_array)):\n",
    "        text = text_array[i]\n",
    "    \n",
    "        text_splits = text.split(\" \")\n",
    "        \n",
    "        concatenated_audio = np.array([])\n",
    "        for i in range(len(text_splits)):\n",
    "            clip_path = \"clips/\" + voice_profile + \"/\" + text_splits[i] + \".wav\"\n",
    "            audio, sr = librosa.load(clip_path, sr=8000)\n",
    "            concatenated_audio = np.concatenate([concatenated_audio, audio])\n",
    "    \n",
    "        grand_concatenated_audio = np.concatenate([grand_concatenated_audio, np.array([point for point in range(int(0.5 * 8000))]), concatenated_audio])\n",
    "    \n",
    "    sd.play(grand_concatenated_audio, 8000)\n",
    "    sd.wait()"
   ]
  },
  {
   "cell_type": "code",
   "execution_count": 8,
   "id": "6e7f3c1e-8a1b-4bc3-ac1a-daae3bf2d5a2",
   "metadata": {},
   "outputs": [
    {
     "name": "stdout",
     "output_type": "stream",
     "text": [
      "['ball', 'is', 'not', 'cat', 'and', 'cat', 'is', 'not', 'ball']\n"
     ]
    }
   ],
   "source": [
    "text = \"ball is not cat and cat is not ball\"\n",
    "voice_profile = \"pradeep\"\n",
    "speak_text(text, voice_profile)"
   ]
  },
  {
   "cell_type": "code",
   "execution_count": 10,
   "id": "4c450de0-c5a4-462f-8086-0308763cb886",
   "metadata": {},
   "outputs": [],
   "source": [
    "text_array = [\n",
    "    \"this is a cat\", \n",
    "    \"that is a ball\", \n",
    "    \"cat is not ball\", \n",
    "    \"this cat is not that ball\", \n",
    "    \"ball is not cat and cat is not ball\",\n",
    "    \"a ball is not a cat and that is\"\n",
    "]\n",
    "voice_profile = \"sahil\" \n",
    "speak_text_multiple(text_array, voice_profile)"
   ]
  },
  {
   "cell_type": "code",
   "execution_count": null,
   "id": "dcd364ae-1041-40a4-9691-25efa0f89f01",
   "metadata": {},
   "outputs": [],
   "source": []
  },
  {
   "cell_type": "code",
   "execution_count": null,
   "id": "32e2a000-9a79-430d-a5fc-120a6eb2a101",
   "metadata": {},
   "outputs": [],
   "source": []
  },
  {
   "cell_type": "code",
   "execution_count": null,
   "id": "f3c88dec-6c0b-4420-9552-8e16f29e723c",
   "metadata": {},
   "outputs": [],
   "source": []
  },
  {
   "cell_type": "code",
   "execution_count": null,
   "id": "c54b4a98-11df-44c9-b719-00c5d276a98e",
   "metadata": {},
   "outputs": [],
   "source": []
  },
  {
   "cell_type": "code",
   "execution_count": null,
   "id": "fa5c9de7-d792-4848-bf35-731a145318c9",
   "metadata": {},
   "outputs": [],
   "source": []
  },
  {
   "cell_type": "code",
   "execution_count": null,
   "id": "22e2ec4b-e8b4-44ef-b2d1-337b8808f279",
   "metadata": {},
   "outputs": [],
   "source": []
  }
 ],
 "metadata": {
  "kernelspec": {
   "display_name": "Python 3 (ipykernel)",
   "language": "python",
   "name": "python3"
  },
  "language_info": {
   "codemirror_mode": {
    "name": "ipython",
    "version": 3
   },
   "file_extension": ".py",
   "mimetype": "text/x-python",
   "name": "python",
   "nbconvert_exporter": "python",
   "pygments_lexer": "ipython3",
   "version": "3.12.3"
  }
 },
 "nbformat": 4,
 "nbformat_minor": 5
}
